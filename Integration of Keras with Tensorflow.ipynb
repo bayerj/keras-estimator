{
 "cells": [
  {
   "cell_type": "markdown",
   "metadata": {
    "deletable": true,
    "editable": true
   },
   "source": [
    "# Integration of Keras Models with Tensorflow Estimator\n",
    "In this tutorial, we want to integrate Keras models with [Tensorflow Estimators](https://www.tensorflow.org/extend/estimators). Estimator is a powerful feature that brings flexibility to run an experiment and helps developers to avoid boilerplate code for training/testing a model. Check this [interesting video](https://www.youtube.com/watch?v=t64ortpgS-E&list=PLOU2XLYxmsIKGc_NBoIhTn2Qhraji53cv&index=6) for an introduction to Estimator. Keras provides an abstract api for developing neural networks and helps developer for fast prototyping. By reading this tutorial, you will be able to use Keras models in Tensorflow ecosystem.\n",
    "\n"
   ]
  },
  {
   "cell_type": "markdown",
   "metadata": {
    "deletable": true,
    "editable": true
   },
   "source": [
    "# Prerequisit\n",
    "* [Install Tensorflow 1.1](https://www.tensorflow.org/versions/r1.1/install/) or higher. \n",
    "* Basic understanding of [Functional API of Keras](https://keras.io/getting-started/functional-api-guide/).\n",
    "* Basic understanding of [Tensorflow Estimators](https://www.tensorflow.org/versions/r0.12/tutorials/estimators/).\n",
    "\n",
    "If you only need Keras as an interface for Tensorlow, please follow [this tutorial](https://blog.keras.io/keras-as-a-simplified-interface-to-tensorflow-tutorial.html). \n"
   ]
  },
  {
   "cell_type": "markdown",
   "metadata": {
    "deletable": true,
    "editable": true
   },
   "source": [
    "# Building a Keras model for An Abalone Age Predictor\n",
    "\n",
    "This tutorial essentially follows the same approach described in [this tutorial](https://www.tensorflow.org/extend/estimators), however, instead of using Tensorflow layers, we want to use Keras layers.\n",
    "\n",
    "## Building an estimator for a Keras Model\n",
    "To build an estimator, we need to implement [model_fn function](https://www.tensorflow.org/versions/r0.12/tutorials/estimators/#constructing_the_model_fn). The model_fn function is invoked in a different context (TRAIN, INFER and EVAL) to set up the estimator. This function essentially is a function that returns [ModelFnOps](https://www.tensorflow.org/api_docs/python/tf/contrib/learn/ModelFnOps) which encapsulates the following variables: \n",
    "1. **Lost Tensor** (required for *EVAL* and *TRAIN* modes): This tensor indicates how closely the model's predictions match the target values.\n",
    "2. **Train Operation** (required for *TRAIN* mode): This operation will be used to train a model, which is typically an optimization operation on a loss function. For our purpose, we use the SGD algorithm on the mean square error.\n",
    "3. **Prediction Tensors** (required for *EVAL* and *INFER* modes):  A dict that maps key names of your choice to Tensors containing the predictions from the model. For our example, we return a dictionary that only contains the predicted age.\n",
    "4. **Evaluate MetricSpec** (required for *EVAL* mode): This is a dictionary of [MetricSpec](https://github.com/tensorflow/tensorflow/blob/master/tensorflow/contrib/learn/python/learn/metric_spec.py). *MetricSpec*s uses a *prediction_key* to associate a [metric](https://www.tensorflow.org/versions/r0.12/api_docs/python/contrib.metrics/#metric-ops) to one of the predictions returned by *Prediction Tensors* which has the same key in the Prediction Tensors dictionary. If there is only one prediction for a model (like the model used in this tutorial), there is no need to set *prediction_key*. \n",
    "\n",
    "To build these operations, *model_fn* is fit with four parameters:\n",
    "1. **features**: This is an object that contains instances of a dataset. In our example, we use a numpy matrix that stores our features.\n",
    "2. **targets**: A tensor containing the gold-standard labels.\n",
    "3. **mode**: The context that model_fn was called. This context can be TRAIN, EVAL and INFER mode.\n",
    "4. **params**: Custome parameters for the model. For our example, we set the learning rate of the optimizer from params.\n",
    "\n",
    "Now we covered the model_fn function, let implement it for our model. We would like to predicate the age of an [abalone](https://en.wikipedia.org/wiki/Abalone). To do this, our model consists of two fully connected layers with the relu activation function followed by a linear layer without non-linearity that return the predicted age."
   ]
  },
  {
   "cell_type": "code",
   "execution_count": 1,
   "metadata": {
    "collapsed": false,
    "deletable": true,
    "editable": true
   },
   "outputs": [],
   "source": [
    "from tensorflow.contrib.keras.python.keras.layers import Input, Dense\n",
    "from tensorflow.contrib.keras.python.keras.models import Model\n",
    "from tensorflow.contrib.keras.python.keras.optimizers import SGD\n",
    "from tensorflow.contrib.learn.python.learn.estimators import model_fn as model_fn_lib\n",
    "import tensorflow as tf\n",
    "import numpy as np\n",
    "import os.path\n",
    "import urllib\n",
    "\n",
    "model = None\n",
    "i = 0\n",
    "\n",
    "def build_model():\n",
    "  global i\n",
    "  i = i + 1\n",
    "  inputs = Input(shape=(7,))\n",
    "  # Note that features is a Tensorflow tensor and Dense is a Keras layer.\n",
    "\n",
    "#   predictions = tf.reshape(output_layer, [-1])\n",
    "  return Model(inputs=inputs, outputs=output_layer)\n",
    "\n",
    "def model_fn(features, targets, mode, params):\n",
    "  \"\"\"Model function for Estimator.\n",
    "   # Logic to do the following:\n",
    "   # 1. Configure the model via Keras functional api\n",
    "   # 2. Define the loss function for training/evaluation using Tensorflow.\n",
    "   # 3. Define the training operation/optimizer using Tensorflow operation/optimizer.\n",
    "   # 4. Generate predictions as Tensorflow tensors.\n",
    "   # 5. Generate necessary evaluation metrics.\n",
    "   # 6. Return predictions/loss/train_op/eval_metric_ops in ModelFnOps object\"\"\"\n",
    "  \n",
    "  print(\"############### %s ###################\" % mode)\n",
    "  # 1. Configure the model via Keras functional api\n",
    "\n",
    "  first_hidden_layer = Dense(10, activation='relu', name = str(i))(features)\n",
    "  second_hidden_layer = Dense(10, activation='relu')(first_hidden_layer)\n",
    "  output_layer = Dense(1, activation='linear')(second_hidden_layer)  \n",
    "\n",
    "  predictions = tf.reshape(output_layer, [-1])\n",
    "    \n",
    "  # 2. Define the loss function for training/evaluation using Tensorflow.\n",
    "  loss = tf.losses.mean_squared_error(targets, predictions)\n",
    "\n",
    "  # 3. Define the training operation/optimizer using Tensorflow operation/optimizer.\n",
    "  train_op = tf.contrib.layers.optimize_loss(\n",
    "    loss=loss,\n",
    "    global_step=tf.contrib.framework.get_global_step(),\n",
    "    learning_rate=params[\"learning_rate\"],\n",
    "    optimizer=\"SGD\")\n",
    "\n",
    "  # 4. Generate predictions as Tensorflow tensors.\n",
    "  predictions_dict = {\"ages\": predictions}\n",
    "\n",
    "  # 5. Generate necessary evaluation metrics.\n",
    "  # Calculate root mean squared error as additional eval metric\n",
    "  eval_metric_ops = {\n",
    "      \"rmse\": tf.metrics.root_mean_squared_error(\n",
    "          tf.cast(targets, tf.float32), predictions)\n",
    "  }\n",
    "\n",
    "  # 6. Return predictions/loss/train_op/eval_metric_ops in ModelFnOps object\n",
    "  return model_fn_lib.ModelFnOps(\n",
    "      mode=mode,\n",
    "      predictions=predictions_dict,\n",
    "      loss=loss,\n",
    "      train_op=train_op,\n",
    "      eval_metric_ops=eval_metric_ops)\n",
    "\n"
   ]
  },
  {
   "cell_type": "markdown",
   "metadata": {
    "deletable": true,
    "editable": true
   },
   "source": [
    "Now lets download the dataset and try our model:"
   ]
  },
  {
   "cell_type": "code",
   "execution_count": 2,
   "metadata": {
    "collapsed": false,
    "deletable": true,
    "editable": true
   },
   "outputs": [
    {
     "name": "stdout",
     "output_type": "stream",
     "text": [
      "Dataset has been downloaded in training.csv, its size is (3320, 7)\n",
      "Dataset has been downloaded in test.csv, its size is (850, 7)\n",
      "Dataset has been downloaded in predict.csv, its size is (7, 7)\n"
     ]
    }
   ],
   "source": [
    "import tensorflow as tf\n",
    "import numpy as np\n",
    "import os.path\n",
    "import urllib\n",
    "\n",
    "TRAIN_DATASET_URL=\"http://download.tensorflow.org/data/abalone_train.csv\"\n",
    "TEST_DATASET_URL=\"http://download.tensorflow.org/data/abalone_test.csv\"\n",
    "PREDICT_DATASET_URL=\"http://download.tensorflow.org/data/abalone_predict.csv\"\n",
    "\n",
    "def get_dataset(url, filename):\n",
    "  if not os.path.exists(filename):\n",
    "    urllib.request.urlretrieve(\n",
    "        url,\n",
    "        filename)\n",
    "  dataset = tf.contrib.learn.datasets.base.load_csv_without_header(\n",
    "    filename=filename, target_dtype=np.int, features_dtype=np.float32)\n",
    "  print(\"Dataset has been downloaded in %s, its size is %s\" % (filename, dataset.data.shape))\n",
    "  return dataset\n",
    "\n",
    "training_set = get_dataset(TRAIN_DATASET_URL, \"training.csv\")\n",
    "test_set = get_dataset(TEST_DATASET_URL, \"test.csv\")\n",
    "predict_set = get_dataset(PREDICT_DATASET_URL, \"predict.csv\")"
   ]
  },
  {
   "cell_type": "markdown",
   "metadata": {
    "deletable": true,
    "editable": true
   },
   "source": [
    "To train the model we need to instantiate an Estimator: "
   ]
  },
  {
   "cell_type": "code",
   "execution_count": 3,
   "metadata": {
    "collapsed": false,
    "deletable": true,
    "editable": true
   },
   "outputs": [
    {
     "name": "stdout",
     "output_type": "stream",
     "text": [
      "INFO:tensorflow:Using default config.\n",
      "INFO:tensorflow:Using config: {'_task_id': 0, '_task_type': None, '_keep_checkpoint_every_n_hours': 10000, '_num_ps_replicas': 0, '_model_dir': None, '_save_checkpoints_steps': None, '_tf_config': gpu_options {\n",
      "  per_process_gpu_memory_fraction: 1\n",
      "}\n",
      ", '_save_checkpoints_secs': 600, '_tf_random_seed': None, '_master': '', '_keep_checkpoint_max': 5, '_save_summary_steps': 100, '_is_chief': True, '_environment': 'local', '_cluster_spec': <tensorflow.python.training.server_lib.ClusterSpec object at 0x1126a24e0>, '_num_worker_replicas': 0, '_evaluation_master': ''}\n",
      "WARNING:tensorflow:Using temporary folder as model directory: /var/folders/_g/9zy1zpy55c59kbl62wkkj6hm0000gn/T/tmpsilesg20\n",
      "WARNING:tensorflow:From <ipython-input-3-a493c62523f1>:9: calling BaseEstimator.fit (from tensorflow.contrib.learn.python.learn.estimators.estimator) with x is deprecated and will be removed after 2016-12-01.\n",
      "Instructions for updating:\n",
      "Estimator is decoupled from Scikit Learn interface by moving into\n",
      "separate class SKCompat. Arguments x, y and batch_size are only\n",
      "available in the SKCompat class, Estimator will only accept input_fn.\n",
      "Example conversion:\n",
      "  est = Estimator(...) -> est = SKCompat(Estimator(...))\n",
      "WARNING:tensorflow:From <ipython-input-3-a493c62523f1>:9: calling BaseEstimator.fit (from tensorflow.contrib.learn.python.learn.estimators.estimator) with y is deprecated and will be removed after 2016-12-01.\n",
      "Instructions for updating:\n",
      "Estimator is decoupled from Scikit Learn interface by moving into\n",
      "separate class SKCompat. Arguments x, y and batch_size are only\n",
      "available in the SKCompat class, Estimator will only accept input_fn.\n",
      "Example conversion:\n",
      "  est = Estimator(...) -> est = SKCompat(Estimator(...))\n",
      "############### train ###################\n"
     ]
    },
    {
     "name": "stderr",
     "output_type": "stream",
     "text": [
      "/Users/majid/anaconda/envs/tensorflow/lib/python3.5/site-packages/tensorflow/python/util/deprecation.py:248: FutureWarning: comparison to `None` will result in an elementwise object comparison in the future.\n",
      "  equality = a == b\n"
     ]
    },
    {
     "name": "stdout",
     "output_type": "stream",
     "text": [
      "INFO:tensorflow:Create CheckpointSaverHook.\n",
      "INFO:tensorflow:Saving checkpoints for 1 into /var/folders/_g/9zy1zpy55c59kbl62wkkj6hm0000gn/T/tmpsilesg20/model.ckpt.\n",
      "INFO:tensorflow:loss = 100.77, step = 1\n",
      "INFO:tensorflow:global_step/sec: 316.869\n",
      "INFO:tensorflow:loss = 7.55002, step = 101 (0.317 sec)\n",
      "INFO:tensorflow:global_step/sec: 301.2\n",
      "INFO:tensorflow:loss = 7.26714, step = 201 (0.332 sec)\n",
      "INFO:tensorflow:global_step/sec: 276.011\n",
      "INFO:tensorflow:loss = 7.11362, step = 301 (0.362 sec)\n",
      "INFO:tensorflow:global_step/sec: 317.903\n",
      "INFO:tensorflow:loss = 7.01887, step = 401 (0.315 sec)\n",
      "INFO:tensorflow:global_step/sec: 294.88\n",
      "INFO:tensorflow:loss = 6.9508, step = 501 (0.339 sec)\n",
      "INFO:tensorflow:global_step/sec: 314.667\n",
      "INFO:tensorflow:loss = 6.89405, step = 601 (0.318 sec)\n",
      "INFO:tensorflow:global_step/sec: 319.556\n",
      "INFO:tensorflow:loss = 6.84138, step = 701 (0.313 sec)\n",
      "INFO:tensorflow:global_step/sec: 327.944\n",
      "INFO:tensorflow:loss = 6.78933, step = 801 (0.305 sec)\n",
      "INFO:tensorflow:global_step/sec: 318.979\n",
      "INFO:tensorflow:loss = 6.73625, step = 901 (0.313 sec)\n",
      "INFO:tensorflow:global_step/sec: 329.046\n",
      "INFO:tensorflow:loss = 6.68201, step = 1001 (0.304 sec)\n",
      "INFO:tensorflow:global_step/sec: 327.316\n",
      "INFO:tensorflow:loss = 6.62602, step = 1101 (0.305 sec)\n",
      "INFO:tensorflow:global_step/sec: 307.971\n",
      "INFO:tensorflow:loss = 6.56963, step = 1201 (0.325 sec)\n",
      "INFO:tensorflow:global_step/sec: 321.164\n",
      "INFO:tensorflow:loss = 6.51218, step = 1301 (0.311 sec)\n",
      "INFO:tensorflow:global_step/sec: 315.9\n",
      "INFO:tensorflow:loss = 6.45513, step = 1401 (0.316 sec)\n",
      "INFO:tensorflow:global_step/sec: 306.923\n",
      "INFO:tensorflow:loss = 6.39745, step = 1501 (0.326 sec)\n",
      "INFO:tensorflow:global_step/sec: 320.669\n",
      "INFO:tensorflow:loss = 6.33928, step = 1601 (0.312 sec)\n",
      "INFO:tensorflow:global_step/sec: 327.333\n",
      "INFO:tensorflow:loss = 6.28081, step = 1701 (0.305 sec)\n",
      "INFO:tensorflow:global_step/sec: 332.675\n",
      "INFO:tensorflow:loss = 6.22109, step = 1801 (0.301 sec)\n",
      "INFO:tensorflow:global_step/sec: 331.675\n",
      "INFO:tensorflow:loss = 6.16011, step = 1901 (0.301 sec)\n",
      "INFO:tensorflow:global_step/sec: 319.087\n",
      "INFO:tensorflow:loss = 6.09781, step = 2001 (0.314 sec)\n",
      "INFO:tensorflow:global_step/sec: 296.732\n",
      "INFO:tensorflow:loss = 6.03422, step = 2101 (0.337 sec)\n",
      "INFO:tensorflow:global_step/sec: 291.747\n",
      "INFO:tensorflow:loss = 5.96927, step = 2201 (0.343 sec)\n",
      "INFO:tensorflow:global_step/sec: 285.839\n",
      "INFO:tensorflow:loss = 5.90311, step = 2301 (0.350 sec)\n",
      "INFO:tensorflow:global_step/sec: 275.437\n",
      "INFO:tensorflow:loss = 5.83589, step = 2401 (0.363 sec)\n",
      "INFO:tensorflow:global_step/sec: 330.9\n",
      "INFO:tensorflow:loss = 5.76771, step = 2501 (0.302 sec)\n",
      "INFO:tensorflow:global_step/sec: 330.439\n",
      "INFO:tensorflow:loss = 5.6987, step = 2601 (0.303 sec)\n",
      "INFO:tensorflow:global_step/sec: 331.921\n",
      "INFO:tensorflow:loss = 5.62916, step = 2701 (0.301 sec)\n",
      "INFO:tensorflow:global_step/sec: 322.952\n",
      "INFO:tensorflow:loss = 5.55976, step = 2801 (0.310 sec)\n",
      "INFO:tensorflow:global_step/sec: 328.7\n",
      "INFO:tensorflow:loss = 5.49105, step = 2901 (0.304 sec)\n",
      "INFO:tensorflow:global_step/sec: 333.394\n",
      "INFO:tensorflow:loss = 5.42346, step = 3001 (0.300 sec)\n",
      "INFO:tensorflow:global_step/sec: 329.826\n",
      "INFO:tensorflow:loss = 5.35763, step = 3101 (0.303 sec)\n",
      "INFO:tensorflow:global_step/sec: 331.164\n",
      "INFO:tensorflow:loss = 5.29389, step = 3201 (0.302 sec)\n",
      "INFO:tensorflow:global_step/sec: 323.476\n",
      "INFO:tensorflow:loss = 5.23255, step = 3301 (0.309 sec)\n",
      "INFO:tensorflow:global_step/sec: 329.729\n",
      "INFO:tensorflow:loss = 5.17366, step = 3401 (0.303 sec)\n",
      "INFO:tensorflow:global_step/sec: 316.494\n",
      "INFO:tensorflow:loss = 5.11759, step = 3501 (0.316 sec)\n",
      "INFO:tensorflow:global_step/sec: 327.221\n",
      "INFO:tensorflow:loss = 5.06445, step = 3601 (0.306 sec)\n",
      "INFO:tensorflow:global_step/sec: 262.467\n",
      "INFO:tensorflow:loss = 5.01508, step = 3701 (0.381 sec)\n",
      "INFO:tensorflow:global_step/sec: 313.864\n",
      "INFO:tensorflow:loss = 4.96962, step = 3801 (0.319 sec)\n",
      "INFO:tensorflow:global_step/sec: 290.128\n",
      "INFO:tensorflow:loss = 4.9275, step = 3901 (0.344 sec)\n",
      "INFO:tensorflow:global_step/sec: 302.88\n",
      "INFO:tensorflow:loss = 4.88892, step = 4001 (0.330 sec)\n",
      "INFO:tensorflow:global_step/sec: 319.453\n",
      "INFO:tensorflow:loss = 4.85369, step = 4101 (0.313 sec)\n",
      "INFO:tensorflow:global_step/sec: 316.501\n",
      "INFO:tensorflow:loss = 4.82155, step = 4201 (0.316 sec)\n",
      "INFO:tensorflow:global_step/sec: 266.035\n",
      "INFO:tensorflow:loss = 4.79178, step = 4301 (0.376 sec)\n",
      "INFO:tensorflow:global_step/sec: 250.379\n",
      "INFO:tensorflow:loss = 4.76473, step = 4401 (0.399 sec)\n",
      "INFO:tensorflow:global_step/sec: 313.948\n",
      "INFO:tensorflow:loss = 4.74054, step = 4501 (0.318 sec)\n",
      "INFO:tensorflow:global_step/sec: 293.532\n",
      "INFO:tensorflow:loss = 4.7186, step = 4601 (0.341 sec)\n",
      "INFO:tensorflow:global_step/sec: 276.759\n",
      "INFO:tensorflow:loss = 4.69856, step = 4701 (0.361 sec)\n",
      "INFO:tensorflow:global_step/sec: 261.437\n",
      "INFO:tensorflow:loss = 4.67951, step = 4801 (0.383 sec)\n",
      "INFO:tensorflow:global_step/sec: 284.064\n",
      "INFO:tensorflow:loss = 4.66226, step = 4901 (0.352 sec)\n",
      "INFO:tensorflow:Saving checkpoints for 5000 into /var/folders/_g/9zy1zpy55c59kbl62wkkj6hm0000gn/T/tmpsilesg20/model.ckpt.\n",
      "INFO:tensorflow:Loss for final step: 4.64643.\n"
     ]
    },
    {
     "data": {
      "text/plain": [
       "Estimator(params={'learning_rate': 0.001})"
      ]
     },
     "execution_count": 3,
     "metadata": {},
     "output_type": "execute_result"
    }
   ],
   "source": [
    "from tensorflow.contrib.learn.python.learn.estimators import estimator\n",
    "LEARNING_RATE = 0.001\n",
    "# Set model params\n",
    "model_params = {\"learning_rate\": LEARNING_RATE}\n",
    "\n",
    "# Instantiate Estimator\n",
    "est = estimator.Estimator(model_fn=model_fn, params=model_params)\n",
    "\n",
    "est.fit(x=training_set.data, y=training_set.target, steps=5000)"
   ]
  },
  {
   "cell_type": "markdown",
   "metadata": {
    "deletable": true,
    "editable": true
   },
   "source": [
    "Finally, we evaluate our model on the test-dataset and predict the age of abalone in the predict-dataset."
   ]
  },
  {
   "cell_type": "code",
   "execution_count": 4,
   "metadata": {
    "collapsed": false,
    "deletable": true,
    "editable": true
   },
   "outputs": [
    {
     "name": "stdout",
     "output_type": "stream",
     "text": [
      "WARNING:tensorflow:From <ipython-input-4-9d1475f0d63f>:3: calling BaseEstimator.evaluate (from tensorflow.contrib.learn.python.learn.estimators.estimator) with x is deprecated and will be removed after 2016-12-01.\n",
      "Instructions for updating:\n",
      "Estimator is decoupled from Scikit Learn interface by moving into\n",
      "separate class SKCompat. Arguments x, y and batch_size are only\n",
      "available in the SKCompat class, Estimator will only accept input_fn.\n",
      "Example conversion:\n",
      "  est = Estimator(...) -> est = SKCompat(Estimator(...))\n",
      "WARNING:tensorflow:From <ipython-input-4-9d1475f0d63f>:3: calling BaseEstimator.evaluate (from tensorflow.contrib.learn.python.learn.estimators.estimator) with y is deprecated and will be removed after 2016-12-01.\n",
      "Instructions for updating:\n",
      "Estimator is decoupled from Scikit Learn interface by moving into\n",
      "separate class SKCompat. Arguments x, y and batch_size are only\n",
      "available in the SKCompat class, Estimator will only accept input_fn.\n",
      "Example conversion:\n",
      "  est = Estimator(...) -> est = SKCompat(Estimator(...))\n",
      "############### eval ###################\n"
     ]
    },
    {
     "name": "stderr",
     "output_type": "stream",
     "text": [
      "/Users/majid/anaconda/envs/tensorflow/lib/python3.5/site-packages/tensorflow/python/util/deprecation.py:248: FutureWarning: comparison to `None` will result in an elementwise object comparison in the future.\n",
      "  equality = a == b\n"
     ]
    },
    {
     "name": "stdout",
     "output_type": "stream",
     "text": [
      "INFO:tensorflow:Starting evaluation at 2017-04-12-21:56:52\n",
      "INFO:tensorflow:Restoring parameters from /var/folders/_g/9zy1zpy55c59kbl62wkkj6hm0000gn/T/tmpsilesg20/model.ckpt-5000\n",
      "INFO:tensorflow:Evaluation [1/1]\n",
      "INFO:tensorflow:Finished evaluation at 2017-04-12-21:56:53\n",
      "INFO:tensorflow:Saving dict for global step 5000: global_step = 5000, loss = 5.37203, rmse = 2.31776\n",
      "WARNING:tensorflow:Skipping summary for global_step, must be a float or np.float32.\n",
      "Loss: 5.37203\n",
      "Root Mean Squared Error: 2.31776\n",
      "WARNING:tensorflow:From <ipython-input-4-9d1475f0d63f>:8: calling BaseEstimator.predict (from tensorflow.contrib.learn.python.learn.estimators.estimator) with x is deprecated and will be removed after 2016-12-01.\n",
      "Instructions for updating:\n",
      "Estimator is decoupled from Scikit Learn interface by moving into\n",
      "separate class SKCompat. Arguments x, y and batch_size are only\n",
      "available in the SKCompat class, Estimator will only accept input_fn.\n",
      "Example conversion:\n",
      "  est = Estimator(...) -> est = SKCompat(Estimator(...))\n",
      "############### infer ###################\n",
      "INFO:tensorflow:Restoring parameters from /var/folders/_g/9zy1zpy55c59kbl62wkkj6hm0000gn/T/tmpsilesg20/model.ckpt-5000\n",
      "Prediction 2: {'ages': 4.4740086}\n",
      "Prediction 3: {'ages': 10.712712}\n",
      "Prediction 4: {'ages': 7.1116824}\n",
      "Prediction 5: {'ages': 10.992724}\n",
      "Prediction 6: {'ages': 10.996736}\n",
      "Prediction 7: {'ages': 9.5713997}\n",
      "Prediction 8: {'ages': 11.356137}\n"
     ]
    }
   ],
   "source": [
    "\n",
    "# Score accuracy\n",
    "ev = est.evaluate(x=test_set.data, y=test_set.target, steps=1)\n",
    "print(\"Loss: %s\" % ev[\"loss\"])\n",
    "print(\"Root Mean Squared Error: %s\" % ev[\"rmse\"])\n",
    "\n",
    "# Print out predictions\n",
    "predict_results = est.predict(x=predict_set.data)\n",
    "i = 0\n",
    "for p in predict_results:\n",
    "  i = i + 1\n",
    "  print(\"Prediction %s: %s\" % (i + 1, p))"
   ]
  }
 ],
 "metadata": {
  "celltoolbar": "Raw Cell Format",
  "kernelspec": {
   "display_name": "Python 3",
   "language": "python",
   "name": "python3"
  },
  "language_info": {
   "codemirror_mode": {
    "name": "ipython",
    "version": 3
   },
   "file_extension": ".py",
   "mimetype": "text/x-python",
   "name": "python",
   "nbconvert_exporter": "python",
   "pygments_lexer": "ipython3",
   "version": "3.5.2"
  }
 },
 "nbformat": 4,
 "nbformat_minor": 2
}
